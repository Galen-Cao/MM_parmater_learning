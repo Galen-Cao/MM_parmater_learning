{
 "cells": [
  {
   "cell_type": "code",
   "execution_count": null,
   "metadata": {},
   "outputs": [],
   "source": [
    "import numpy as np\n",
    "import pandas as pd\n",
    "import matplotlib.pyplot as plt\n",
    "from scipy.optimize import curve_fit\n",
    "\n",
    "from lib.ECP import Agent, ErgodicCP"
   ]
  },
  {
   "cell_type": "code",
   "execution_count": null,
   "metadata": {},
   "outputs": [],
   "source": [
    "kappa_true = 10\n",
    "kappa_est = np.random.uniform(1, 100)\n",
    "\n",
    "lambda_buy = 0.4\n",
    "lambda_sell = 0.4\n",
    "q_upper, q_lower = 30, -30\n",
    "phi = 1e-6\n",
    "\n",
    "simga = 0.01\n",
    "\n",
    "T=50\n",
    "dt=1\n",
    "K_upper=100\n",
    "delta0=1e-8"
   ]
  },
  {
   "cell_type": "code",
   "execution_count": null,
   "metadata": {},
   "outputs": [],
   "source": [
    "ErgodicCP(\n",
    "    lambda_buy=lambda_buy,\n",
    "    lambda_sell=lambda_sell,\n",
    "    q_upper=q_upper,\n",
    "    q_lower=q_lower,\n",
    "    phi=phi,\n",
    "    kappa=kappa_true,\n",
    ").plot_EControl"
   ]
  },
  {
   "cell_type": "code",
   "execution_count": null,
   "metadata": {},
   "outputs": [],
   "source": [
    "Regret_MC = 250\n",
    "regret_samples = 5\n",
    "\n",
    "\n",
    "MC_regret = []\n",
    "MC_kappa = []\n",
    "\n",
    "\n",
    "for _ in range(Regret_MC):\n",
    "    regret_list = []\n",
    "    kappa_list = []\n",
    "    for _ in range(regret_samples):\n",
    "        kappa_est = np.random.uniform(50, 100)\n",
    "\n",
    "        agent = Agent(\n",
    "            lambda_buy=lambda_buy,\n",
    "            lambda_sell=lambda_sell,\n",
    "            q_upper=q_upper,\n",
    "            q_lower=q_lower,\n",
    "            phi=phi,\n",
    "            kappa_est=kappa_est,\n",
    "            T=T,\n",
    "            dt=dt,\n",
    "            K_upper=K_upper,\n",
    "            delta0=delta0, \n",
    "        )\n",
    "\n",
    "        agent.learning(sigma=simga, kappa_true=kappa_true)\n",
    "\n",
    "        kappa_list.append(agent.kappa_learnlist)\n",
    "        regret_list.append(agent.regret(kappa_true=kappa_true))\n",
    "\n",
    "    kappa_list = np.array(kappa_list)\n",
    "    regret_list = np.array(regret_list)\n",
    "    MC_regret.append(np.mean(regret_list, axis=0))\n",
    "    MC_kappa.append(np.mean(kappa_list, axis=0))\n",
    "\n",
    "MC_kappa = np.array(MC_kappa)\n",
    "MC_regret = np.array(MC_regret)"
   ]
  },
  {
   "cell_type": "code",
   "execution_count": null,
   "metadata": {},
   "outputs": [],
   "source": [
    "std = np.std(MC_kappa-kappa_true, axis=0)\n",
    "ci = 1.64 * std/np.sqrt(len(agent.ts))\n",
    "y = np.mean(MC_kappa, axis=0)-kappa_true\n",
    "\n",
    "fig, ax = plt.subplots()\n",
    "ax.loglog(agent.ts, y)\n",
    "ax.fill_between(agent.ts, (y-ci), (y+ci), color='b', alpha=.1)\n",
    "\n",
    "# plt.loglog(agent.ts[1:], agent.ts[1:]**(-0.5), '--')\n",
    "plt.xlabel(\"Log Time\")\n",
    "plt.ylabel(\"Log Error\")\n",
    "plt.title(\"Log of Learning Error\")\n",
    "plt.show()"
   ]
  },
  {
   "cell_type": "code",
   "execution_count": null,
   "metadata": {},
   "outputs": [],
   "source": [
    "std = np.std(MC_regret, axis=0)\n",
    "ci = 1.96 * std/np.sqrt(len(agent.ts))\n",
    "y = np.mean(MC_regret, axis=0)\n",
    "\n",
    "fig, ax = plt.subplots()\n",
    "ax.plot(agent.ts, y)\n",
    "ax.fill_between(agent.ts, (y-ci), (y+ci), color='b', alpha=.1)\n",
    "plt.xlabel(\"Time\")\n",
    "plt.ylabel(\"Regret\")\n",
    "plt.title(\"Algorithm Regret\")\n",
    "plt.show()"
   ]
  },
  {
   "cell_type": "code",
   "execution_count": null,
   "metadata": {},
   "outputs": [],
   "source": [
    "y_axis = (y)[10:]\n",
    "y_axis_upper = (y+ci)[10:]\n",
    "x_axis = agent.ts[10:]\n",
    "\n",
    "# Define the quadratic model\n",
    "def log_square_model(x, c, m):\n",
    "    return c * (np.log(x)**2) + m\n",
    "\n",
    "# Perform the regression\n",
    "params, covariance = curve_fit(log_square_model, x_axis, y_axis)\n",
    "c_estimated = params[0]\n",
    "m_estimated = params[1]\n",
    "\n",
    "# Perform the regression\n",
    "params, covariance = curve_fit(log_square_model, x_axis, y_axis_upper)\n",
    "c_estimated_upper = params[0]\n",
    "m_estimated_upper = params[1]"
   ]
  },
  {
   "cell_type": "code",
   "execution_count": null,
   "metadata": {},
   "outputs": [],
   "source": [
    "fig, ax = plt.subplots()\n",
    "ax.plot(agent.ts, y, label='(expected) regret')\n",
    "ax.fill_between(agent.ts, (y-ci), (y+ci), color='b', alpha=.1, label='$95\\%$ CI of (expected) regret')\n",
    "x_fit = np.linspace(10, T, 1001)\n",
    "y_fit = log_square_model(x_fit, c_estimated, m_estimated)\n",
    "y_fit_upper = log_square_model(x_fit, c_estimated_upper, m_estimated_upper)\n",
    "ax.plot(x_fit, y_fit, color='mediumslateblue',linestyle=':', label=f'Fitted curve ${np.round(c_estimated, 3)} \\ln(T)^2 + {np.round(m_estimated,4)}$')\n",
    "ax.plot(x_fit, y_fit_upper, color='mediumslateblue',linestyle='dashdot', label=f'Fitted curve ${np.round(c_estimated_upper, 4)} \\ln(T)^2 + {np.round(m_estimated_upper,4)}$')\n",
    "plt.xlabel(\"Time\")\n",
    "plt.ylabel(\"Regret\")\n",
    "plt.title(\"Algorithm Regret\")\n",
    "plt.legend()\n",
    "plt.show()"
   ]
  }
 ],
 "metadata": {
  "kernelspec": {
   "display_name": "Python 3",
   "language": "python",
   "name": "python3"
  },
  "language_info": {
   "codemirror_mode": {
    "name": "ipython",
    "version": 3
   },
   "file_extension": ".py",
   "mimetype": "text/x-python",
   "name": "python",
   "nbconvert_exporter": "python",
   "pygments_lexer": "ipython3",
   "version": "3.10.9"
  }
 },
 "nbformat": 4,
 "nbformat_minor": 2
}
